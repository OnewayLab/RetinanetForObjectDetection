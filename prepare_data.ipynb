{
 "cells": [
  {
   "attachments": {},
   "cell_type": "markdown",
   "metadata": {},
   "source": [
    "# 准备数据"
   ]
  },
  {
   "attachments": {},
   "cell_type": "markdown",
   "metadata": {},
   "source": [
    "## 获取标签"
   ]
  },
  {
   "cell_type": "code",
   "execution_count": 6,
   "metadata": {},
   "outputs": [
    {
     "name": "stdout",
     "output_type": "stream",
     "text": [
      "17125\n"
     ]
    },
    {
     "name": "stderr",
     "output_type": "stream",
     "text": [
      "100%|██████████| 17125/17125 [00:08<00:00, 2094.65it/s]"
     ]
    },
    {
     "name": "stdout",
     "output_type": "stream",
     "text": [
      "['person', 'aeroplane', 'tvmonitor', 'train', 'boat', 'dog', 'chair', 'bird', 'bicycle', 'bottle', 'sheep', 'diningtable', 'horse', 'motorbike', 'sofa', 'cow', 'car', 'cat', 'bus', 'pottedplant']\n",
      "20\n"
     ]
    },
    {
     "name": "stderr",
     "output_type": "stream",
     "text": [
      "\n"
     ]
    }
   ],
   "source": [
    "import xml.dom.minidom as xmldom\n",
    "from glob import glob\n",
    "from tqdm import tqdm\n",
    "\n",
    "PATH = \"./data/VOC2012/Annotations\"\n",
    "all_xml = glob(PATH + \"/*.xml\")\n",
    "print(len(all_xml))\n",
    "label_names = []\n",
    "for xml in tqdm(all_xml):\n",
    "    domobj = xmldom.parse(xml)\n",
    "    elementobj = domobj.documentElement\n",
    "    subElementObj = elementobj.getElementsByTagName(\"object\")\n",
    "    for i in range(len(subElementObj)):\n",
    "        name = subElementObj[i].getElementsByTagName(\"name\")[0].firstChild.data\n",
    "        if name not in label_names:\n",
    "            label_names.append(name)\n",
    "print(label_names)\n",
    "print(len(label_names))\n",
    "with open(\"./data/VOC2012/labels.txt\", \"w\") as f:\n",
    "    for label in label_names:\n",
    "        f.write(label + \"\\n\")"
   ]
  },
  {
   "attachments": {},
   "cell_type": "markdown",
   "metadata": {},
   "source": [
    "## 计算均值和方差"
   ]
  },
  {
   "cell_type": "code",
   "execution_count": 6,
   "metadata": {},
   "outputs": [
    {
     "name": "stderr",
     "output_type": "stream",
     "text": [
      "100%|██████████| 5717/5717 [01:45<00:00, 54.33it/s]\n"
     ]
    },
    {
     "data": {
      "text/plain": [
       "array([116.54703538, 111.75323747, 103.57417823])"
      ]
     },
     "metadata": {},
     "output_type": "display_data"
    },
    {
     "data": {
      "text/plain": [
       "array([60.96688134, 59.94961114, 61.13129536])"
      ]
     },
     "metadata": {},
     "output_type": "display_data"
    }
   ],
   "source": [
    "from src.datasets import VOCDataset\n",
    "import numpy as np\n",
    "from tqdm import tqdm\n",
    "\n",
    "# 获取训练集\n",
    "train_set = VOCDataset(\"./data/VOC2012\", split=\"train\")\n",
    "\n",
    "# 计算均值和方差\n",
    "mean = 0\n",
    "std = 0\n",
    "for _, _, image in tqdm(train_set):\n",
    "    image = np.array(image)\n",
    "    mean += image.mean(axis=(0, 1))\n",
    "    std += image.std(axis=(0, 1))\n",
    "mean /= len(train_set)\n",
    "std /= len(train_set)\n",
    "display(mean, std)"
   ]
  },
  {
   "attachments": {},
   "cell_type": "markdown",
   "metadata": {},
   "source": [
    "## 生成数据列表"
   ]
  },
  {
   "cell_type": "code",
   "execution_count": 16,
   "metadata": {},
   "outputs": [
    {
     "name": "stdout",
     "output_type": "stream",
     "text": [
      "get 17125 samples\n"
     ]
    }
   ],
   "source": [
    "import os\n",
    "import glob\n",
    "import random\n",
    "\n",
    "TRAINVAL_PATH = \"./data/VOC2012\"\n",
    "sample_list = glob.glob(f\"{TRAINVAL_PATH}/Annotations/*.xml\")\n",
    "n_samples = len(sample_list)\n",
    "print(f\"get {n_samples} samples\")\n",
    "n_train_samples = int(n_samples * 0.8)\n",
    "n_trainval_samples = int(n_samples * 0.9)\n",
    "random.shuffle(sample_list)\n",
    "train_samples, val_samples, test_samples = sample_list[:n_train_samples], sample_list[n_train_samples:n_trainval_samples], sample_list[n_trainval_samples:]\n",
    "train_sample_names = [os.path.basename(sample).split(\".\")[0] for sample in train_samples]\n",
    "val_sample_names = [os.path.basename(sample).split(\".\")[0] for sample in val_samples]\n",
    "test_sample_names = [os.path.basename(sample).split(\".\")[0] for sample in test_samples]\n",
    "with open(f\"{TRAINVAL_PATH}/train.txt\", \"w\") as f:\n",
    "    for name in train_sample_names:\n",
    "        f.write(name + \"\\n\")\n",
    "with open(f\"{TRAINVAL_PATH}/val.txt\", \"w\") as f:\n",
    "    for name in val_sample_names:\n",
    "        f.write(name + \"\\n\")\n",
    "with open(f\"{TRAINVAL_PATH}/test.txt\", \"w\") as f:\n",
    "    for name in test_sample_names:\n",
    "        f.write(name + \"\\n\")"
   ]
  },
  {
   "attachments": {},
   "cell_type": "markdown",
   "metadata": {},
   "source": [
    "## 抽样\n",
    "\n",
    "从训练集、验证集、测试集中分别抽取 30、10、10 个样本，存放到 `./data/VOC2012-sample` 目录下。"
   ]
  },
  {
   "cell_type": "code",
   "execution_count": 17,
   "metadata": {},
   "outputs": [
    {
     "name": "stderr",
     "output_type": "stream",
     "text": [
      "100%|██████████| 50/50 [00:01<00:00, 34.21it/s]\n"
     ]
    }
   ],
   "source": [
    "from random import sample\n",
    "from tqdm import tqdm\n",
    "\n",
    "# 保存路径\n",
    "ORIGIN_PATH = r\".\\data\\VOC2012\"\n",
    "OUTPUT_PATH = r\".\\data\\VOC2012-sample\"\n",
    "image_path = os.path.join(OUTPUT_PATH, \"JPEGImages\")\n",
    "annot_path = os.path.join(OUTPUT_PATH, \"Annotations\")\n",
    "os.makedirs(image_path, exist_ok=True)\n",
    "os.makedirs(annot_path, exist_ok=True)\n",
    "\n",
    "# 随机抽样\n",
    "train_sample_ids = sample(train_sample_names, 30)\n",
    "val_sample_ids = sample(val_sample_names, 10)\n",
    "test_sample_ids = sample(test_sample_names, 10)\n",
    "all_sample_ids = train_sample_ids + val_sample_ids + test_sample_ids\n",
    "\n",
    "# 保存数据集列表\n",
    "with open(os.path.join(OUTPUT_PATH, \"train.txt\"), \"w\") as f:\n",
    "    train_sample_ids = [str(i) for i in train_sample_ids]\n",
    "    f.write(\"\\n\".join(train_sample_ids))\n",
    "with open(os.path.join(OUTPUT_PATH, \"val.txt\"), \"w\") as f:\n",
    "    val_sample_ids = [str(i) for i in val_sample_ids]\n",
    "    f.write(\"\\n\".join(val_sample_ids))\n",
    "with open(os.path.join(OUTPUT_PATH, \"test.txt\"), \"w\") as f:\n",
    "    test_sample_ids = [str(i) for i in test_sample_ids]\n",
    "    f.write(\"\\n\".join(test_sample_ids))\n",
    "\n",
    "# 保存图像和标注\n",
    "for id in tqdm(all_sample_ids):\n",
    "    jpg_origin_path = os.path.join(ORIGIN_PATH, \"JPEGImages\", f\"{id}.jpg\")\n",
    "    jpg_output_path = os.path.join(OUTPUT_PATH, \"JPEGImages\", f\"{id}.jpg\")    \n",
    "    xml_origin_path = os.path.join(ORIGIN_PATH, \"Annotations\", f\"{id}.xml\")\n",
    "    xml_output_path = os.path.join(OUTPUT_PATH, \"Annotations\", f\"{id}.xml\")\n",
    "    os.system(f\"copy {jpg_origin_path} {jpg_output_path}\")\n",
    "    os.system(f\"copy {xml_origin_path} {xml_output_path}\")"
   ]
  }
 ],
 "metadata": {
  "kernelspec": {
   "display_name": "base",
   "language": "python",
   "name": "python3"
  },
  "language_info": {
   "codemirror_mode": {
    "name": "ipython",
    "version": 3
   },
   "file_extension": ".py",
   "mimetype": "text/x-python",
   "name": "python",
   "nbconvert_exporter": "python",
   "pygments_lexer": "ipython3",
   "version": "3.9.16"
  },
  "orig_nbformat": 4
 },
 "nbformat": 4,
 "nbformat_minor": 2
}
